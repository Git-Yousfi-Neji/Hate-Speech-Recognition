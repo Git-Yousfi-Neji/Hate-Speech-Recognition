{
  "nbformat": 4,
  "nbformat_minor": 0,
  "metadata": {
    "colab": {
      "name": "Hate_Speech_Recognition.ipynb",
      "provenance": [],
      "collapsed_sections": [],
      "authorship_tag": "ABX9TyMlxgnLeA8IXLd4+F1XsqO/",
      "include_colab_link": true
    },
    "kernelspec": {
      "name": "python3",
      "display_name": "Python 3"
    }
  },
  "cells": [
    {
      "cell_type": "markdown",
      "metadata": {
        "id": "view-in-github",
        "colab_type": "text"
      },
      "source": [
        "<a href=\"https://colab.research.google.com/github/Git-Yousfi-Neji/Hate-Speech-Recognition/blob/main/Hate_Speech_Recognition.ipynb\" target=\"_parent\"><img src=\"https://colab.research.google.com/assets/colab-badge.svg\" alt=\"Open In Colab\"/></a>"
      ]
    },
    {
      "cell_type": "code",
      "metadata": {
        "id": "pLTNMlrKY8Nv",
        "colab": {
          "base_uri": "https://localhost:8080/"
        },
        "outputId": "10acdbe0-586f-4060-a432-f006d469248c"
      },
      "source": [
        "from google.colab import drive\n",
        "drive.mount('/content/gdrive')"
      ],
      "execution_count": null,
      "outputs": [
        {
          "output_type": "stream",
          "text": [
            "Mounted at /content/gdrive\n"
          ],
          "name": "stdout"
        }
      ]
    },
    {
      "cell_type": "code",
      "metadata": {
        "id": "Ie24NSWiqdB_",
        "colab": {
          "base_uri": "https://localhost:8080/",
          "height": 86
        },
        "outputId": "e689cdf7-8b39-450a-c26d-2a934b4c3964"
      },
      "source": [
        "\"\"\"\n",
        "# This Python 3 environment comes with many helpful analytics libraries installed\n",
        "# For example, here's several helpful packages to load\n",
        "\n",
        "import numpy as np # linear algebra\n",
        "import pandas as pd # data processing, CSV file I/O (e.g. pd.read_csv)\n",
        "\n",
        "# Input data files are available in the read-only \"../input/\" directory\n",
        "# For example, running this (by clicking run or pressing Shift+Enter) will list all files under the input directory\n",
        "\n",
        "import os\n",
        "for dirname, _, filenames in os.walk('path goes here..'):\n",
        "    for filename in filenames:\n",
        "        print(os.path.join(dirname, filename))\n",
        "\"\"\""
      ],
      "execution_count": null,
      "outputs": [
        {
          "output_type": "execute_result",
          "data": {
            "application/vnd.google.colaboratory.intrinsic+json": {
              "type": "string"
            },
            "text/plain": [
              "'\\n# This Python 3 environment comes with many helpful analytics libraries installed\\n# For example, here\\'s several helpful packages to load\\n\\nimport numpy as np # linear algebra\\nimport pandas as pd # data processing, CSV file I/O (e.g. pd.read_csv)\\n\\n# Input data files are available in the read-only \"../input/\" directory\\n# For example, running this (by clicking run or pressing Shift+Enter) will list all files under the input directory\\n\\nimport os\\nfor dirname, _, filenames in os.walk(\\'path goes here..\\'):\\n    for filename in filenames:\\n        print(os.path.join(dirname, filename))\\n'"
            ]
          },
          "metadata": {
            "tags": []
          },
          "execution_count": 2
        }
      ]
    },
    {
      "cell_type": "code",
      "metadata": {
        "id": "j7nljyzOKz_f",
        "colab": {
          "base_uri": "https://localhost:8080/"
        },
        "outputId": "4951dba1-860e-4ad3-e775-2821b264741c"
      },
      "source": [
        "pip install stop_words"
      ],
      "execution_count": null,
      "outputs": [
        {
          "output_type": "stream",
          "text": [
            "Collecting stop_words\n",
            "  Downloading https://files.pythonhosted.org/packages/1c/cb/d58290804b7a4c5daa42abbbe2a93c477ae53e45541b1825e86f0dfaaf63/stop-words-2018.7.23.tar.gz\n",
            "Building wheels for collected packages: stop-words\n",
            "  Building wheel for stop-words (setup.py) ... \u001b[?25l\u001b[?25hdone\n",
            "  Created wheel for stop-words: filename=stop_words-2018.7.23-cp36-none-any.whl size=32916 sha256=52635880e59d8ff1241b008a410102c6303988e62a8cdcb961d36d2ef853f56f\n",
            "  Stored in directory: /root/.cache/pip/wheels/75/37/6a/2b295e03bd07290f0da95c3adb9a74ba95fbc333aa8b0c7c78\n",
            "Successfully built stop-words\n",
            "Installing collected packages: stop-words\n",
            "Successfully installed stop-words-2018.7.23\n"
          ],
          "name": "stdout"
        }
      ]
    },
    {
      "cell_type": "code",
      "metadata": {
        "id": "UHtEW7oLZK2g"
      },
      "source": [
        "import numpy as np\n",
        "import pandas as pd\n",
        "import os\n",
        "import matplotlib.pyplot as plt\n",
        "import re\n",
        "import nltk\n",
        "#from nltk.corpus import stopwords\n",
        "from sklearn.model_selection import train_test_split\n",
        "from sklearn.metrics import confusion_matrix\n",
        "from mlxtend.plotting import plot_confusion_matrix\n",
        "from sklearn import preprocessing\n",
        "import tensorflow as tf\n",
        "from tensorflow.keras.models import Sequential\n",
        "from tensorflow.keras.layers import LSTM, MaxPool1D, Dropout, Dense, GlobalMaxPooling1D, Embedding, Activation\n",
        "from keras.utils import to_categorical\n",
        "from keras.preprocessing.text import Tokenizer\n",
        "from keras.preprocessing.sequence import pad_sequences\n",
        "from stop_words import get_stop_words\n"
      ],
      "execution_count": null,
      "outputs": []
    },
    {
      "cell_type": "markdown",
      "metadata": {
        "id": "J4RixlsLq45W"
      },
      "source": [
        "# **Importing dataset , dropping unnamed columns and ceeating a test data**\n",
        "\n",
        "---\n",
        "\n"
      ]
    },
    {
      "cell_type": "code",
      "metadata": {
        "id": "t4913fVVq_VS",
        "colab": {
          "base_uri": "https://localhost:8080/"
        },
        "outputId": "e0fce30e-bc15-400c-ae0f-41e29e7c2b8f"
      },
      "source": [
        "train_data_path = '/content/gdrive/My Drive/Colab Notebooks/Hate Speech Recognition/data/'\n",
        "train_data = pd.read_csv(train_data_path + 'train.csv')\n",
        "\n",
        "train_data = train_data.loc[:, ~train_data.columns.str.contains('^Unnamed')]\n",
        "\n",
        "print('original train data shape',train_data.shape)\n",
        "\n",
        "#test_data = train_data.iloc[137571:,:]\n",
        "#test_data = test_data.reset_index()\n",
        "#train_data = train_data.iloc[:137570,:]\n",
        "\n",
        "#print('test data shape',test_data.shape)\n",
        "#print('new train data shape',train_data.shape)\n",
        "#print(test_data.shape[0]+train_data.shape[0])"
      ],
      "execution_count": null,
      "outputs": [
        {
          "output_type": "stream",
          "text": [
            "original train data shape (159571, 8)\n"
          ],
          "name": "stdout"
        }
      ]
    },
    {
      "cell_type": "code",
      "metadata": {
        "id": "ujwKo-Jbq1se",
        "colab": {
          "base_uri": "https://localhost:8080/",
          "height": 204
        },
        "outputId": "613e41a1-3c72-4c97-ee70-1aabb17eacf5"
      },
      "source": [
        "train_data.head(5)"
      ],
      "execution_count": null,
      "outputs": [
        {
          "output_type": "execute_result",
          "data": {
            "text/html": [
              "<div>\n",
              "<style scoped>\n",
              "    .dataframe tbody tr th:only-of-type {\n",
              "        vertical-align: middle;\n",
              "    }\n",
              "\n",
              "    .dataframe tbody tr th {\n",
              "        vertical-align: top;\n",
              "    }\n",
              "\n",
              "    .dataframe thead th {\n",
              "        text-align: right;\n",
              "    }\n",
              "</style>\n",
              "<table border=\"1\" class=\"dataframe\">\n",
              "  <thead>\n",
              "    <tr style=\"text-align: right;\">\n",
              "      <th></th>\n",
              "      <th>id</th>\n",
              "      <th>comment_text</th>\n",
              "      <th>toxic</th>\n",
              "      <th>severe_toxic</th>\n",
              "      <th>obscene</th>\n",
              "      <th>threat</th>\n",
              "      <th>insult</th>\n",
              "      <th>identity_hate</th>\n",
              "    </tr>\n",
              "  </thead>\n",
              "  <tbody>\n",
              "    <tr>\n",
              "      <th>0</th>\n",
              "      <td>0000997932d777bf</td>\n",
              "      <td>Explanation\\nWhy the edits made under my usern...</td>\n",
              "      <td>0</td>\n",
              "      <td>0</td>\n",
              "      <td>0</td>\n",
              "      <td>0</td>\n",
              "      <td>0</td>\n",
              "      <td>0</td>\n",
              "    </tr>\n",
              "    <tr>\n",
              "      <th>1</th>\n",
              "      <td>000103f0d9cfb60f</td>\n",
              "      <td>D'aww! He matches this background colour I'm s...</td>\n",
              "      <td>0</td>\n",
              "      <td>0</td>\n",
              "      <td>0</td>\n",
              "      <td>0</td>\n",
              "      <td>0</td>\n",
              "      <td>0</td>\n",
              "    </tr>\n",
              "    <tr>\n",
              "      <th>2</th>\n",
              "      <td>000113f07ec002fd</td>\n",
              "      <td>Hey man, I'm really not trying to edit war. It...</td>\n",
              "      <td>0</td>\n",
              "      <td>0</td>\n",
              "      <td>0</td>\n",
              "      <td>0</td>\n",
              "      <td>0</td>\n",
              "      <td>0</td>\n",
              "    </tr>\n",
              "    <tr>\n",
              "      <th>3</th>\n",
              "      <td>0001b41b1c6bb37e</td>\n",
              "      <td>\"\\nMore\\nI can't make any real suggestions on ...</td>\n",
              "      <td>0</td>\n",
              "      <td>0</td>\n",
              "      <td>0</td>\n",
              "      <td>0</td>\n",
              "      <td>0</td>\n",
              "      <td>0</td>\n",
              "    </tr>\n",
              "    <tr>\n",
              "      <th>4</th>\n",
              "      <td>0001d958c54c6e35</td>\n",
              "      <td>You, sir, are my hero. Any chance you remember...</td>\n",
              "      <td>0</td>\n",
              "      <td>0</td>\n",
              "      <td>0</td>\n",
              "      <td>0</td>\n",
              "      <td>0</td>\n",
              "      <td>0</td>\n",
              "    </tr>\n",
              "  </tbody>\n",
              "</table>\n",
              "</div>"
            ],
            "text/plain": [
              "                 id  ... identity_hate\n",
              "0  0000997932d777bf  ...             0\n",
              "1  000103f0d9cfb60f  ...             0\n",
              "2  000113f07ec002fd  ...             0\n",
              "3  0001b41b1c6bb37e  ...             0\n",
              "4  0001d958c54c6e35  ...             0\n",
              "\n",
              "[5 rows x 8 columns]"
            ]
          },
          "metadata": {
            "tags": []
          },
          "execution_count": 6
        }
      ]
    },
    {
      "cell_type": "markdown",
      "metadata": {
        "id": "JB7jJiKyEW15"
      },
      "source": [
        "\n",
        "# **Preprocessing the dataset**\n",
        "\n",
        "\n",
        "---\n",
        "\n"
      ]
    },
    {
      "cell_type": "code",
      "metadata": {
        "id": "yDOI6ZcRZKyw"
      },
      "source": [
        "def deleteSmallWords(text):\n",
        "    return ' '.join([word for word in text.split() if len(word) > 3])   \n",
        "def cleanText(text):\n",
        "    # clean the text\n",
        "    text = re.sub(r\"Https?://[A-Za-z0-9./]+\",\"url\",text)\n",
        "    text = re.sub(r\"[^A-Za-z0-9^,!.\\/'+-=]\",\" \",text)\n",
        "    text = re.sub(r\"what's\",\"what is \",text)\n",
        "    text = re.sub(r\"\\'s\",\" \",text)\n",
        "    text = re.sub(r\"\\s+[a-zA-Z]\\s+\", ' ', text) # Single character removal\n",
        "    text = re.sub(r\"\\'ve\",\" have \",text)\n",
        "    text = re.sub(r\"\\n't\",\" not \",text)\n",
        "    #text = re.sub(r\"\\i'm\",\"i am \",text)\n",
        "    text = re.sub(r\"\\'re\",\" are \",text)\n",
        "    text = re.sub(r\"\\'d\",\" would \",text)\n",
        "    text = re.sub(r\"\\'ll\",\" will \",text)\n",
        "    text = re.sub(r\"\\.\",\" \",text)\n",
        "    text = re.sub(r\"!\",\" \",text)\n",
        "    text = re.sub(r\"\\/\",\" \",text)\n",
        "    text = re.sub(r\"\\^\",\" ^ \",text)\n",
        "    text = re.sub(r\"\\+\",\" + \",text)\n",
        "    text = re.sub(r\"\\-\",\" - \",text)\n",
        "    text = re.sub(r\"\\=\",\" = \",text)\n",
        "    text = re.sub(r\":\",\" : \",text)\n",
        "    text = re.sub(r\"'\",\" \",text)\n",
        "    text = re.sub(r\"(\\d+)(k)\",r\"\\g<1>000\",text)\n",
        "    text = re.sub(r\" e g \",\" eg \",text)\n",
        "    text = re.sub(r\" b g \",\" bg \",text)\n",
        "    text = re.sub(r\" u s \",\" amarican \",text)\n",
        "    text = re.sub(r\"\\0s\",\"0\",text)\n",
        "    text = re.sub(r\" 9 11 \",\"911\",text)\n",
        "    text = re.sub(r\"e - mail\",\"email\",text)\n",
        "    text = re.sub(r\"j k\",\"jk\",text)\n",
        "    text = re.sub(r\"\\s{2,}\",\" \",text)\n",
        "    text = re.sub(r\"@[A-Za_z0-9]+\",'',text)\n",
        "    text = re.sub(r\"(\\w)\\1{2,}\",r\"\\1\\1\",text)\n",
        "    text = re.sub(r\"\\w(\\w)\\1{2}\",'',text)\n",
        "    return text\n",
        "def deleteNonAlphaWords(text):\n",
        "    return ''.join([word for word in text.split() if word.isalpha()])\n",
        "def deleteStopWords(text):\n",
        "    return ' '.join([word for word in text.lower().split() if not word in get_stop_words('english') and len(word) >= 3])"
      ],
      "execution_count": null,
      "outputs": []
    },
    {
      "cell_type": "code",
      "metadata": {
        "id": "9BhUh44VDyDf"
      },
      "source": [
        "train_data['comment_text'] = train_data['comment_text'].apply(lambda text:deleteSmallWords(text))\n",
        "train_data['comment_text'] = train_data['comment_text'].apply(lambda text:cleanText(text))\n",
        "train_data['comment_text'] = train_data['comment_text'].apply(lambda text:deleteNonAlphaWords(text))\n",
        "train_data['comment_text'] = train_data['comment_text'].apply(lambda text:deleteStopWords(text))\n",
        "\n",
        "#test_data['comment_text'] = test_data['comment_text'].apply(lambda text:deleteSmallWords(text))\n",
        "#test_data['comment_text'] = test_data['comment_text'].apply(lambda text:cleanText(text))\n",
        "#test_data['comment_text'] = test_data['comment_text'].apply(lambda text:deleteNonAlphaWords(text))\n",
        "#test_data['comment_text'] = test_data['comment_text'].apply(lambda text:deleteStopWords(text))"
      ],
      "execution_count": null,
      "outputs": []
    },
    {
      "cell_type": "markdown",
      "metadata": {
        "id": "PKnzWOypadt8"
      },
      "source": [
        "# **Tokenize the data**\n",
        "\n",
        "---\n",
        "\n"
      ]
    },
    {
      "cell_type": "code",
      "metadata": {
        "id": "UkmZrj-tajKE",
        "colab": {
          "base_uri": "https://localhost:8080/"
        },
        "outputId": "3a10f1a1-ce65-4a98-b57b-be81ecd17faf"
      },
      "source": [
        "num_texts = len(train_data.index)\n",
        "print(num_texts)\n",
        "token = Tokenizer(num_words=num_texts)\n",
        "token.fit_on_texts(train_data['comment_text'])\n",
        "text = token.texts_to_sequences(train_data['comment_text'])\n",
        "text = pad_sequences(text)\n",
        "\n",
        "tt = 'bitch hate nigga'\n",
        "text_test = token.texts_to_sequences(tt)\n",
        "text_test = pad_sequences(text_test)\n",
        "print(type(text_test))"
      ],
      "execution_count": null,
      "outputs": [
        {
          "output_type": "stream",
          "text": [
            "159571\n",
            "<class 'numpy.ndarray'>\n"
          ],
          "name": "stdout"
        }
      ]
    },
    {
      "cell_type": "code",
      "metadata": {
        "id": "ThMnHR1fesJk",
        "colab": {
          "base_uri": "https://localhost:8080/"
        },
        "outputId": "a18efa74-056f-45eb-f774-b7fee5f1476c"
      },
      "source": [
        "columns = train_data.columns\n",
        "columns = list(columns[2:])\n",
        "print(columns)\n",
        "#y = train_data.loc[:,columns].values\n",
        "y = train_data['toxic']\n",
        "print(text.shape,y.shape)\n",
        "print(text[1],y[0])\n"
      ],
      "execution_count": null,
      "outputs": [
        {
          "output_type": "stream",
          "text": [
            "['toxic', 'severe_toxic', 'obscene', 'threat', 'insult', 'identity_hate']\n",
            "(159571, 1) (159571,)\n",
            "[1015] 0\n"
          ],
          "name": "stdout"
        }
      ]
    },
    {
      "cell_type": "code",
      "metadata": {
        "id": "ruRUKyEqkJXl",
        "colab": {
          "base_uri": "https://localhost:8080/"
        },
        "outputId": "1bd859af-23ef-48a6-b21a-9f1a73874b75"
      },
      "source": [
        "x_train, x_test, y_train, y_test = train_test_split(text, y, test_size=0.2, random_state=1)\n",
        "print(x_train.shape,x_test.shape)\n",
        "print(y_train.shape,y_test.shape)\n",
        "print(type(text))"
      ],
      "execution_count": null,
      "outputs": [
        {
          "output_type": "stream",
          "text": [
            "(127656, 1) (31915, 1)\n",
            "(127656,) (31915,)\n",
            "<class 'numpy.ndarray'>\n"
          ],
          "name": "stdout"
        }
      ]
    },
    {
      "cell_type": "code",
      "metadata": {
        "id": "ffu25xBlmvTk",
        "colab": {
          "base_uri": "https://localhost:8080/"
        },
        "outputId": "1948b7a7-4003-4124-e963-953932d33154"
      },
      "source": [
        "max_features = num_texts\n",
        "embedding_dim = 32\n",
        "\n",
        "model = Sequential()\n",
        "model.add(Embedding(max_features, embedding_dim))\n",
        "model.add(Dropout(0.2))\n",
        "model.add(LSTM(32, return_sequences=True))\n",
        "model.add(Dropout(0.2))\n",
        "model.add(Dense(1))\n",
        "model.add(Activation('sigmoid'))\n",
        "model.summary()"
      ],
      "execution_count": null,
      "outputs": [
        {
          "output_type": "stream",
          "text": [
            "Model: \"sequential\"\n",
            "_________________________________________________________________\n",
            "Layer (type)                 Output Shape              Param #   \n",
            "=================================================================\n",
            "embedding (Embedding)        (None, None, 32)          5106272   \n",
            "_________________________________________________________________\n",
            "dropout (Dropout)            (None, None, 32)          0         \n",
            "_________________________________________________________________\n",
            "lstm (LSTM)                  (None, None, 32)          8320      \n",
            "_________________________________________________________________\n",
            "dropout_1 (Dropout)          (None, None, 32)          0         \n",
            "_________________________________________________________________\n",
            "dense (Dense)                (None, None, 1)           33        \n",
            "_________________________________________________________________\n",
            "activation (Activation)      (None, None, 1)           0         \n",
            "=================================================================\n",
            "Total params: 5,114,625\n",
            "Trainable params: 5,114,625\n",
            "Non-trainable params: 0\n",
            "_________________________________________________________________\n"
          ],
          "name": "stdout"
        }
      ]
    },
    {
      "cell_type": "code",
      "metadata": {
        "id": "rgITXZbnnK26",
        "colab": {
          "base_uri": "https://localhost:8080/"
        },
        "outputId": "6415712e-7462-445a-869f-1f58856c549c"
      },
      "source": [
        "# compile and train model\n",
        "print(x_train.shape,y_train.shape)\n",
        "model.compile(loss='binary_crossentropy', optimizer='adam', metrics=['accuracy'])\n",
        "history = model.fit(x_train, y_train, validation_data=(x_test, y_test), epochs=10)"
      ],
      "execution_count": null,
      "outputs": [
        {
          "output_type": "stream",
          "text": [
            "(127656, 1) (127656,)\n",
            "Epoch 1/10\n",
            "3990/3990 [==============================] - 227s 57ms/step - loss: 0.3282 - accuracy: 0.9042 - val_loss: 0.3182 - val_accuracy: 0.9028\n",
            "Epoch 2/10\n",
            "3990/3990 [==============================] - 238s 60ms/step - loss: 0.0510 - accuracy: 0.9817 - val_loss: 0.5781 - val_accuracy: 0.7670\n",
            "Epoch 3/10\n",
            "3990/3990 [==============================] - 227s 57ms/step - loss: 0.0033 - accuracy: 0.9993 - val_loss: 0.5605 - val_accuracy: 0.7321\n",
            "Epoch 4/10\n",
            "3990/3990 [==============================] - 229s 57ms/step - loss: 0.0024 - accuracy: 0.9994 - val_loss: 0.5943 - val_accuracy: 0.7003\n",
            "Epoch 5/10\n",
            "3990/3990 [==============================] - 228s 57ms/step - loss: 0.0023 - accuracy: 0.9994 - val_loss: 0.4845 - val_accuracy: 0.7872\n",
            "Epoch 6/10\n",
            "3990/3990 [==============================] - 230s 58ms/step - loss: 0.0019 - accuracy: 0.9994 - val_loss: 0.5645 - val_accuracy: 0.7127\n",
            "Epoch 7/10\n",
            "3990/3990 [==============================] - 229s 57ms/step - loss: 0.0016 - accuracy: 0.9994 - val_loss: 0.5847 - val_accuracy: 0.6908\n",
            "Epoch 8/10\n",
            "3990/3990 [==============================] - 232s 58ms/step - loss: 0.0014 - accuracy: 0.9995 - val_loss: 0.6487 - val_accuracy: 0.6169\n",
            "Epoch 9/10\n",
            "3990/3990 [==============================] - 231s 58ms/step - loss: 0.0013 - accuracy: 0.9994 - val_loss: 0.5764 - val_accuracy: 0.7122\n",
            "Epoch 10/10\n",
            "3990/3990 [==============================] - 229s 57ms/step - loss: 0.0010 - accuracy: 0.9994 - val_loss: 0.4931 - val_accuracy: 0.8236\n"
          ],
          "name": "stdout"
        }
      ]
    }
  ]
}